{
  "nbformat": 4,
  "nbformat_minor": 0,
  "metadata": {
    "colab": {
      "name": "KNN-checkpoint6.ipynb",
      "provenance": [],
      "authorship_tag": "ABX9TyNrzJWih8a1kcDujvZVpnoH",
      "include_colab_link": true
    },
    "kernelspec": {
      "display_name": "Python 3",
      "name": "python3"
    },
    "language_info": {
      "name": "python"
    }
  },
  "cells": [
    {
      "cell_type": "markdown",
      "metadata": {
        "id": "view-in-github",
        "colab_type": "text"
      },
      "source": [
        "<a href=\"https://colab.research.google.com/github/liliayata/liliayata/blob/main/KNN_IrisData.ipynb\" target=\"_parent\"><img src=\"https://colab.research.google.com/assets/colab-badge.svg\" alt=\"Open In Colab\"/></a>"
      ]
    },
    {
      "cell_type": "code",
      "metadata": {
        "id": "V6Z3TbFxjk1d"
      },
      "source": [
        "import numpy as np\n",
        "import pandas as pd\n",
        "import matplotlib.pyplot as plt\n",
        "import seaborn as sns\n",
        "from sklearn import preprocessing"
      ],
      "execution_count": null,
      "outputs": []
    },
    {
      "cell_type": "code",
      "metadata": {
        "id": "z0tYq3g2nhlY"
      },
      "source": [
        "import csv\n",
        "import random\n",
        "import math\n",
        "import operator"
      ],
      "execution_count": null,
      "outputs": []
    },
    {
      "cell_type": "markdown",
      "metadata": {
        "id": "beIS1AgLlJZF"
      },
      "source": [
        "#Convert the text file to CSV using Python"
      ]
    },
    {
      "cell_type": "code",
      "metadata": {
        "colab": {
          "base_uri": "https://localhost:8080/"
        },
        "id": "jR2dh0sPteD4",
        "outputId": "9371c373-2b41-46d7-cad9-885caeb3e17b"
      },
      "source": [
        "with open(\"iris.data.txt\") as f:\n",
        "    reader = csv.reader(f)\n",
        "    for row in reader:\n",
        "        print(\" \".join(row))"
      ],
      "execution_count": null,
      "outputs": [
        {
          "name": "stdout",
          "output_type": "stream",
          "text": [
            "5.1 3.5 1.4 0.2 Iris-setosa\n",
            "4.9 3.0 1.4 0.2 Iris-setosa\n",
            "4.7 3.2 1.3 0.2 Iris-setosa\n",
            "4.6 3.1 1.5 0.2 Iris-setosa\n",
            "5.0 3.6 1.4 0.2 Iris-setosa\n",
            "5.4 3.9 1.7 0.4 Iris-setosa\n",
            "4.6 3.4 1.4 0.3 Iris-setosa\n",
            "5.0 3.4 1.5 0.2 Iris-setosa\n",
            "4.4 2.9 1.4 0.2 Iris-setosa\n",
            "4.9 3.1 1.5 0.1 Iris-setosa\n",
            "5.4 3.7 1.5 0.2 Iris-setosa\n",
            "4.8 3.4 1.6 0.2 Iris-setosa\n",
            "4.8 3.0 1.4 0.1 Iris-setosa\n",
            "4.3 3.0 1.1 0.1 Iris-setosa\n",
            "5.8 4.0 1.2 0.2 Iris-setosa\n",
            "5.7 4.4 1.5 0.4 Iris-setosa\n",
            "5.4 3.9 1.3 0.4 Iris-setosa\n",
            "5.1 3.5 1.4 0.3 Iris-setosa\n",
            "5.7 3.8 1.7 0.3 Iris-setosa\n",
            "5.1 3.8 1.5 0.3 Iris-setosa\n",
            "5.4 3.4 1.7 0.2 Iris-setosa\n",
            "5.1 3.7 1.5 0.4 Iris-setosa\n",
            "4.6 3.6 1.0 0.2 Iris-setosa\n",
            "5.1 3.3 1.7 0.5 Iris-setosa\n",
            "4.8 3.4 1.9 0.2 Iris-setosa\n",
            "5.0 3.0 1.6 0.2 Iris-setosa\n",
            "5.0 3.4 1.6 0.4 Iris-setosa\n",
            "5.2 3.5 1.5 0.2 Iris-setosa\n",
            "5.2 3.4 1.4 0.2 Iris-setosa\n",
            "4.7 3.2 1.6 0.2 Iris-setosa\n",
            "4.8 3.1 1.6 0.2 Iris-setosa\n",
            "5.4 3.4 1.5 0.4 Iris-setosa\n",
            "5.2 4.1 1.5 0.1 Iris-setosa\n",
            "5.5 4.2 1.4 0.2 Iris-setosa\n",
            "4.9 3.1 1.5 0.1 Iris-setosa\n",
            "5.0 3.2 1.2 0.2 Iris-setosa\n",
            "5.5 3.5 1.3 0.2 Iris-setosa\n",
            "4.9 3.1 1.5 0.1 Iris-setosa\n",
            "4.4 3.0 1.3 0.2 Iris-setosa\n",
            "5.1 3.4 1.5 0.2 Iris-setosa\n",
            "5.0 3.5 1.3 0.3 Iris-setosa\n",
            "4.5 2.3 1.3 0.3 Iris-setosa\n",
            "4.4 3.2 1.3 0.2 Iris-setosa\n",
            "5.0 3.5 1.6 0.6 Iris-setosa\n",
            "5.1 3.8 1.9 0.4 Iris-setosa\n",
            "4.8 3.0 1.4 0.3 Iris-setosa\n",
            "5.1 3.8 1.6 0.2 Iris-setosa\n",
            "4.6 3.2 1.4 0.2 Iris-setosa\n",
            "5.3 3.7 1.5 0.2 Iris-setosa\n",
            "5.0 3.3 1.4 0.2 Iris-setosa\n",
            "7.0 3.2 4.7 1.4 Iris-versicolor\n",
            "6.4 3.2 4.5 1.5 Iris-versicolor\n",
            "6.9 3.1 4.9 1.5 Iris-versicolor\n",
            "5.5 2.3 4.0 1.3 Iris-versicolor\n",
            "6.5 2.8 4.6 1.5 Iris-versicolor\n",
            "5.7 2.8 4.5 1.3 Iris-versicolor\n",
            "6.3 3.3 4.7 1.6 Iris-versicolor\n",
            "4.9 2.4 3.3 1.0 Iris-versicolor\n",
            "6.6 2.9 4.6 1.3 Iris-versicolor\n",
            "5.2 2.7 3.9 1.4 Iris-versicolor\n",
            "5.0 2.0 3.5 1.0 Iris-versicolor\n",
            "5.9 3.0 4.2 1.5 Iris-versicolor\n",
            "6.0 2.2 4.0 1.0 Iris-versicolor\n",
            "6.1 2.9 4.7 1.4 Iris-versicolor\n",
            "5.6 2.9 3.6 1.3 Iris-versicolor\n",
            "6.7 3.1 4.4 1.4 Iris-versicolor\n",
            "5.6 3.0 4.5 1.5 Iris-versicolor\n",
            "5.8 2.7 4.1 1.0 Iris-versicolor\n",
            "6.2 2.2 4.5 1.5 Iris-versicolor\n",
            "5.6 2.5 3.9 1.1 Iris-versicolor\n",
            "5.9 3.2 4.8 1.8 Iris-versicolor\n",
            "6.1 2.8 4.0 1.3 Iris-versicolor\n",
            "6.3 2.5 4.9 1.5 Iris-versicolor\n",
            "6.1 2.8 4.7 1.2 Iris-versicolor\n",
            "6.4 2.9 4.3 1.3 Iris-versicolor\n",
            "6.6 3.0 4.4 1.4 Iris-versicolor\n",
            "6.8 2.8 4.8 1.4 Iris-versicolor\n",
            "6.7 3.0 5.0 1.7 Iris-versicolor\n",
            "6.0 2.9 4.5 1.5 Iris-versicolor\n",
            "5.7 2.6 3.5 1.0 Iris-versicolor\n",
            "5.5 2.4 3.8 1.1 Iris-versicolor\n",
            "5.5 2.4 3.7 1.0 Iris-versicolor\n",
            "5.8 2.7 3.9 1.2 Iris-versicolor\n",
            "6.0 2.7 5.1 1.6 Iris-versicolor\n",
            "5.4 3.0 4.5 1.5 Iris-versicolor\n",
            "6.0 3.4 4.5 1.6 Iris-versicolor\n",
            "6.7 3.1 4.7 1.5 Iris-versicolor\n",
            "6.3 2.3 4.4 1.3 Iris-versicolor\n",
            "5.6 3.0 4.1 1.3 Iris-versicolor\n",
            "5.5 2.5 4.0 1.3 Iris-versicolor\n",
            "5.5 2.6 4.4 1.2 Iris-versicolor\n",
            "6.1 3.0 4.6 1.4 Iris-versicolor\n",
            "5.8 2.6 4.0 1.2 Iris-versicolor\n",
            "5.0 2.3 3.3 1.0 Iris-versicolor\n",
            "5.6 2.7 4.2 1.3 Iris-versicolor\n",
            "5.7 3.0 4.2 1.2 Iris-versicolor\n",
            "5.7 2.9 4.2 1.3 Iris-versicolor\n",
            "6.2 2.9 4.3 1.3 Iris-versicolor\n",
            "5.1 2.5 3.0 1.1 Iris-versicolor\n",
            "5.7 2.8 4.1 1.3 Iris-versicolor\n",
            "6.3 3.3 6.0 2.5 Iris-virginica\n",
            "5.8 2.7 5.1 1.9 Iris-virginica\n",
            "7.1 3.0 5.9 2.1 Iris-virginica\n",
            "6.3 2.9 5.6 1.8 Iris-virginica\n",
            "6.5 3.0 5.8 2.2 Iris-virginica\n",
            "7.6 3.0 6.6 2.1 Iris-virginica\n",
            "4.9 2.5 4.5 1.7 Iris-virginica\n",
            "7.3 2.9 6.3 1.8 Iris-virginica\n",
            "6.7 2.5 5.8 1.8 Iris-virginica\n",
            "7.2 3.6 6.1 2.5 Iris-virginica\n",
            "6.5 3.2 5.1 2.0 Iris-virginica\n",
            "6.4 2.7 5.3 1.9 Iris-virginica\n",
            "6.8 3.0 5.5 2.1 Iris-virginica\n",
            "5.7 2.5 5.0 2.0 Iris-virginica\n",
            "5.8 2.8 5.1 2.4 Iris-virginica\n",
            "6.4 3.2 5.3 2.3 Iris-virginica\n",
            "6.5 3.0 5.5 1.8 Iris-virginica\n",
            "7.7 3.8 6.7 2.2 Iris-virginica\n",
            "7.7 2.6 6.9 2.3 Iris-virginica\n",
            "6.0 2.2 5.0 1.5 Iris-virginica\n",
            "6.9 3.2 5.7 2.3 Iris-virginica\n",
            "5.6 2.8 4.9 2.0 Iris-virginica\n",
            "7.7 2.8 6.7 2.0 Iris-virginica\n",
            "6.3 2.7 4.9 1.8 Iris-virginica\n",
            "6.7 3.3 5.7 2.1 Iris-virginica\n",
            "7.2 3.2 6.0 1.8 Iris-virginica\n",
            "6.2 2.8 4.8 1.8 Iris-virginica\n",
            "6.1 3.0 4.9 1.8 Iris-virginica\n",
            "6.4 2.8 5.6 2.1 Iris-virginica\n",
            "7.2 3.0 5.8 1.6 Iris-virginica\n",
            "7.4 2.8 6.1 1.9 Iris-virginica\n",
            "7.9 3.8 6.4 2.0 Iris-virginica\n",
            "6.4 2.8 5.6 2.2 Iris-virginica\n",
            "6.3 2.8 5.1 1.5 Iris-virginica\n",
            "6.1 2.6 5.6 1.4 Iris-virginica\n",
            "7.7 3.0 6.1 2.3 Iris-virginica\n",
            "6.3 3.4 5.6 2.4 Iris-virginica\n",
            "6.4 3.1 5.5 1.8 Iris-virginica\n",
            "6.0 3.0 4.8 1.8 Iris-virginica\n",
            "6.9 3.1 5.4 2.1 Iris-virginica\n",
            "6.7 3.1 5.6 2.4 Iris-virginica\n",
            "6.9 3.1 5.1 2.3 Iris-virginica\n",
            "5.8 2.7 5.1 1.9 Iris-virginica\n",
            "6.8 3.2 5.9 2.3 Iris-virginica\n",
            "6.7 3.3 5.7 2.5 Iris-virginica\n",
            "6.7 3.0 5.2 2.3 Iris-virginica\n",
            "6.3 2.5 5.0 1.9 Iris-virginica\n",
            "6.5 3.0 5.2 2.0 Iris-virginica\n",
            "6.2 3.4 5.4 2.3 Iris-virginica\n",
            "5.9 3.0 5.1 1.8 Iris-virginica\n"
          ]
        }
      ]
    },
    {
      "cell_type": "code",
      "metadata": {
        "colab": {
          "background_save": true,
          "base_uri": "https://localhost:8080/",
          "height": 129
        },
        "id": "PGRedmpmmboA",
        "outputId": "de8429a7-2531-4809-b5bd-d0b542187388"
      },
      "source": [
        "import csv\n",
        "\n",
        "import random\n",
        "\n",
        "def loadDataset(reader, split, trainingSet=[] , testSet=[]):\n",
        "\n",
        "with open(iris.data.txt, 'r') as csvfile:\n",
        "\n",
        "  lines = csv.reader('iris.data.csv')\n",
        "\n",
        "  dataset = list(lines)\n",
        "\n",
        "  for x in range(len(dataset)-1):\n",
        "\n",
        "    for y in range(4):\n",
        "\n",
        "      dataset[x][y] = float(dataset[x][y])\n",
        "\n",
        "    if random.random() < split:\n",
        "\n",
        "      trainingSet.append(dataset[x])\n",
        "\n",
        "    else:\n",
        "\n",
        "      testSet.append(dataset[x])\n",
        "\n",
        "\n",
        "trainingSet=[]\n",
        "\n",
        "testSet=[]\n",
        "\n",
        "loadDataset('iris.data', 0.66, trainingSet, testSet)\n",
        "\n",
        "print ('Train: ' + repr(len(trainingSet)))\n",
        "\n",
        "print ('Test: ' + repr(len(testSet)) )"
      ],
      "execution_count": null,
      "outputs": [
        {
          "ename": "IndentationError",
          "evalue": "ignored",
          "output_type": "error",
          "traceback": [
            "\u001b[0;36m  File \u001b[0;32m\"<ipython-input-15-5bb6570358e9>\"\u001b[0;36m, line \u001b[0;32m7\u001b[0m\n\u001b[0;31m    with open('iris.data.txt') as csvfile:\u001b[0m\n\u001b[0m       ^\u001b[0m\n\u001b[0;31mIndentationError\u001b[0m\u001b[0;31m:\u001b[0m expected an indented block\n"
          ]
        }
      ]
    },
    {
      "cell_type": "code",
      "metadata": {
        "colab": {
          "base_uri": "https://localhost:8080/",
          "height": 231
        },
        "id": "SGZ9R-xVRYK3",
        "outputId": "ad76bc6a-24ce-4a87-9a95-60c6af9d9374"
      },
      "source": [
        "trainingSet=[]\n",
        "\n",
        "testSet=[]\n",
        "\n",
        "loadDataset('iris.data', 0.66, trainingSet, testSet)\n",
        "\n",
        "print ('Train: ' + repr(len(trainingSet)))\n",
        "\n",
        "print ('Test: ' + repr(len(testSet)) )"
      ],
      "execution_count": null,
      "outputs": [
        {
          "ename": "NameError",
          "evalue": "ignored",
          "output_type": "error",
          "traceback": [
            "\u001b[0;31m---------------------------------------------------------------------------\u001b[0m",
            "\u001b[0;31mNameError\u001b[0m                                 Traceback (most recent call last)",
            "\u001b[0;32m<ipython-input-13-87a9cd1404de>\u001b[0m in \u001b[0;36m<module>\u001b[0;34m()\u001b[0m\n\u001b[1;32m      3\u001b[0m \u001b[0mtestSet\u001b[0m\u001b[0;34m=\u001b[0m\u001b[0;34m[\u001b[0m\u001b[0;34m]\u001b[0m\u001b[0;34m\u001b[0m\u001b[0;34m\u001b[0m\u001b[0m\n\u001b[1;32m      4\u001b[0m \u001b[0;34m\u001b[0m\u001b[0m\n\u001b[0;32m----> 5\u001b[0;31m \u001b[0mloadDataset\u001b[0m\u001b[0;34m(\u001b[0m\u001b[0;34m'iris.data'\u001b[0m\u001b[0;34m,\u001b[0m \u001b[0;36m0.66\u001b[0m\u001b[0;34m,\u001b[0m \u001b[0mtrainingSet\u001b[0m\u001b[0;34m,\u001b[0m \u001b[0mtestSet\u001b[0m\u001b[0;34m)\u001b[0m\u001b[0;34m\u001b[0m\u001b[0;34m\u001b[0m\u001b[0m\n\u001b[0m\u001b[1;32m      6\u001b[0m \u001b[0;34m\u001b[0m\u001b[0m\n\u001b[1;32m      7\u001b[0m \u001b[0mprint\u001b[0m \u001b[0;34m(\u001b[0m\u001b[0;34m'Train: '\u001b[0m \u001b[0;34m+\u001b[0m \u001b[0mrepr\u001b[0m\u001b[0;34m(\u001b[0m\u001b[0mlen\u001b[0m\u001b[0;34m(\u001b[0m\u001b[0mtrainingSet\u001b[0m\u001b[0;34m)\u001b[0m\u001b[0;34m)\u001b[0m\u001b[0;34m)\u001b[0m\u001b[0;34m\u001b[0m\u001b[0;34m\u001b[0m\u001b[0m\n",
            "\u001b[0;31mNameError\u001b[0m: name 'loadDataset' is not defined"
          ]
        }
      ]
    }
  ]
}